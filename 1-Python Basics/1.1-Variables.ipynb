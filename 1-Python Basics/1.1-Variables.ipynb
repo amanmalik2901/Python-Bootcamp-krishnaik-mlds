{
 "cells": [
  {
   "cell_type": "markdown",
   "id": "113cb289",
   "metadata": {},
   "source": [
    "## Declaring and assigning variables"
   ]
  },
  {
   "cell_type": "code",
   "execution_count": 2,
   "id": "9e638d5e",
   "metadata": {},
   "outputs": [
    {
     "name": "stdout",
     "output_type": "stream",
     "text": [
      "age = 32\n",
      "height = 6.1\n",
      "name = krish\n"
     ]
    }
   ],
   "source": [
    "age = 32    # integer variable\n",
    "height = 6.1        # float variable\n",
    "name = \"krish\"      # string variable\n",
    "is_student = True   # boolean variable\n",
    "\n",
    "# Printing these variables\n",
    "\n",
    "print(\"age =\",age)\n",
    "print(\"height =\", height)\n",
    "print(\"name =\", name)"
   ]
  },
  {
   "cell_type": "markdown",
   "id": "e6db25fb",
   "metadata": {},
   "source": [
    "## Variable naming conventions\n",
    "### Variables =>\n",
    "        1. descriptive\n",
    "        2. start with letter or an '_'\n",
    "        3. contains letters numbers and underscores\n",
    "        4. case sensitive"
   ]
  },
  {
   "cell_type": "code",
   "execution_count": 4,
   "id": "09c83df8",
   "metadata": {},
   "outputs": [],
   "source": [
    "# Valid variable names\n",
    "first_name = \"Krish\"\n",
    "last_name = \"Naik\""
   ]
  },
  {
   "cell_type": "code",
   "execution_count": null,
   "id": "eba02f16",
   "metadata": {},
   "outputs": [
    {
     "ename": "SyntaxError",
     "evalue": "invalid syntax. Maybe you meant '==' or ':=' instead of '='? (2146816191.py, line 4)",
     "output_type": "error",
     "traceback": [
      "  \u001b[36mCell\u001b[39m\u001b[36m \u001b[39m\u001b[32mIn[8]\u001b[39m\u001b[32m, line 4\u001b[39m\n\u001b[31m    \u001b[39m\u001b[31m@name = \"krish\"\u001b[39m\n     ^\n\u001b[31mSyntaxError\u001b[39m\u001b[31m:\u001b[39m invalid syntax. Maybe you meant '==' or ':=' instead of '='?\n"
     ]
    }
   ],
   "source": [
    "# Invalid variable names\n",
    "#2age = 30\n",
    "# first-name = \"krish\"\n",
    "# @name = \"krish\"\n"
   ]
  },
  {
   "cell_type": "markdown",
   "id": "f750d4ec",
   "metadata": {},
   "source": [
    "## Case Sensitivity\n"
   ]
  },
  {
   "cell_type": "code",
   "execution_count": 11,
   "id": "0092f8f5",
   "metadata": {},
   "outputs": [
    {
     "data": {
      "text/plain": [
       "False"
      ]
     },
     "execution_count": 11,
     "metadata": {},
     "output_type": "execute_result"
    }
   ],
   "source": [
    "name = \"krish\"\n",
    "Name = \"Naik\"\n",
    "\n",
    "name == Name"
   ]
  },
  {
   "cell_type": "markdown",
   "id": "8e8352c2",
   "metadata": {},
   "source": [
    "## Understanding Variable Types\n",
    "### Python => \n",
    "    Dynamically typed language: type of variable determined at runtime"
   ]
  },
  {
   "cell_type": "code",
   "execution_count": 13,
   "id": "3196ed83",
   "metadata": {},
   "outputs": [
    {
     "name": "stdout",
     "output_type": "stream",
     "text": [
      "<class 'str'>\n"
     ]
    }
   ],
   "source": [
    "age = 25 #int\n",
    "height = 6.1 #float\n",
    "name = \"krish\" #str\n",
    "is_student = True #bool\n",
    "\n",
    "print(type(name))"
   ]
  },
  {
   "cell_type": "markdown",
   "id": "62bbd470",
   "metadata": {},
   "source": [
    "## Type Checking and Conversion"
   ]
  },
  {
   "cell_type": "code",
   "execution_count": null,
   "id": "c9cfffca",
   "metadata": {},
   "outputs": [
    {
     "data": {
      "text/plain": [
       "float"
      ]
     },
     "execution_count": 14,
     "metadata": {},
     "output_type": "execute_result"
    }
   ],
   "source": [
    "# Type Checking\n",
    "type(height)"
   ]
  },
  {
   "cell_type": "code",
   "execution_count": 20,
   "id": "4377b3f8",
   "metadata": {},
   "outputs": [
    {
     "name": "stdout",
     "output_type": "stream",
     "text": [
      "<class 'int'>\n",
      "25\n",
      "<class 'str'>\n"
     ]
    }
   ],
   "source": [
    "age = 25\n",
    "print(type(age))\n",
    "\n",
    "# Type Conversion\n",
    "age_str = str(age)\n",
    "print(age_str)\n",
    "print(type(age_str))"
   ]
  },
  {
   "cell_type": "code",
   "execution_count": 23,
   "id": "70684105",
   "metadata": {},
   "outputs": [
    {
     "name": "stdout",
     "output_type": "stream",
     "text": [
      "<class 'int'>\n"
     ]
    }
   ],
   "source": [
    "age = '25'\n",
    "print(type(int(age)))"
   ]
  },
  {
   "cell_type": "code",
   "execution_count": 25,
   "id": "641a3ea1",
   "metadata": {},
   "outputs": [
    {
     "ename": "ValueError",
     "evalue": "invalid literal for int() with base 10: 'krish'",
     "output_type": "error",
     "traceback": [
      "\u001b[31m---------------------------------------------------------------------------\u001b[39m",
      "\u001b[31mValueError\u001b[39m                                Traceback (most recent call last)",
      "\u001b[36mCell\u001b[39m\u001b[36m \u001b[39m\u001b[32mIn[25]\u001b[39m\u001b[32m, line 2\u001b[39m\n\u001b[32m      1\u001b[39m name = \u001b[33m\"\u001b[39m\u001b[33mkrish\u001b[39m\u001b[33m\"\u001b[39m\n\u001b[32m----> \u001b[39m\u001b[32m2\u001b[39m \u001b[38;5;28mint\u001b[39m(name)\n",
      "\u001b[31mValueError\u001b[39m: invalid literal for int() with base 10: 'krish'"
     ]
    }
   ],
   "source": [
    "name = \"krish\"\n",
    "int(name)"
   ]
  },
  {
   "cell_type": "code",
   "execution_count": 31,
   "id": "cc4d6b2c",
   "metadata": {},
   "outputs": [
    {
     "data": {
      "text/plain": [
       "float"
      ]
     },
     "execution_count": 31,
     "metadata": {},
     "output_type": "execute_result"
    }
   ],
   "source": [
    "height = 5.11\n",
    "type(height)"
   ]
  },
  {
   "cell_type": "code",
   "execution_count": 32,
   "id": "ecd87b2b",
   "metadata": {},
   "outputs": [
    {
     "data": {
      "text/plain": [
       "5"
      ]
     },
     "execution_count": 32,
     "metadata": {},
     "output_type": "execute_result"
    }
   ],
   "source": [
    "int(height)"
   ]
  },
  {
   "cell_type": "code",
   "execution_count": 28,
   "id": "a7833b85",
   "metadata": {},
   "outputs": [
    {
     "data": {
      "text/plain": [
       "5.0"
      ]
     },
     "execution_count": 28,
     "metadata": {},
     "output_type": "execute_result"
    }
   ],
   "source": [
    "float(int(height))"
   ]
  },
  {
   "cell_type": "markdown",
   "id": "307764e7",
   "metadata": {},
   "source": [
    "## Dynamic Typing\n",
    "    => Python allows the type of variable to change as the program executes"
   ]
  },
  {
   "cell_type": "code",
   "execution_count": 34,
   "id": "546b5694",
   "metadata": {},
   "outputs": [
    {
     "name": "stdout",
     "output_type": "stream",
     "text": [
      "10 <class 'int'>\n",
      "Hello <class 'str'>\n",
      "3.14 <class 'float'>\n"
     ]
    }
   ],
   "source": [
    "var = 10\n",
    "print(var, type(var))\n",
    "\n",
    "var = \"Hello\"\n",
    "print(var, type(var))\n",
    "\n",
    "var = 3.14\n",
    "print(var, type(var))"
   ]
  },
  {
   "cell_type": "markdown",
   "id": "cd77c808",
   "metadata": {},
   "source": [
    "## Input"
   ]
  },
  {
   "cell_type": "code",
   "execution_count": 37,
   "id": "10227e3b",
   "metadata": {},
   "outputs": [
    {
     "name": "stdout",
     "output_type": "stream",
     "text": [
      "<class 'str'> <class 'type'>\n"
     ]
    }
   ],
   "source": [
    "age = type(input(\"What is the age ?\"))\n",
    "print(age,type(age))"
   ]
  },
  {
   "cell_type": "markdown",
   "id": "a3196ad1",
   "metadata": {},
   "source": [
    "## Simple Calculator"
   ]
  },
  {
   "cell_type": "code",
   "execution_count": 41,
   "id": "dedd8987",
   "metadata": {},
   "outputs": [
    {
     "name": "stdout",
     "output_type": "stream",
     "text": [
      "Bro the the numbers you entered are 40.0 and 20.0\n",
      "and bro, these are the simple calculations :-)\n",
      "Sum: 60.0\n",
      "Difference: 20.0\n",
      "Product: 800.0\n",
      "Quotient: 2.0\n"
     ]
    }
   ],
   "source": [
    "num1 = float(input(\"Bro enter the first no: \"))\n",
    "num2 = float(input(\"Bro now enter the second no: \"))\n",
    "\n",
    "sum = num1 + num2\n",
    "difference = num1 - num2\n",
    "product = num1 * num2\n",
    "quotient = num1 / num2\n",
    "\n",
    "print(\"Bro the the numbers you entered are\",num1,\"and\",num2)\n",
    "print(\"and bro, these are the simple calculations :-)\")\n",
    "print(\"Sum:\",sum)\n",
    "print(\"Difference:\",difference)\n",
    "print(\"Product:\",product)\n",
    "print(\"Quotient:\",quotient)"
   ]
  }
 ],
 "metadata": {
  "kernelspec": {
   "display_name": "Python 3",
   "language": "python",
   "name": "python3"
  },
  "language_info": {
   "codemirror_mode": {
    "name": "ipython",
    "version": 3
   },
   "file_extension": ".py",
   "mimetype": "text/x-python",
   "name": "python",
   "nbconvert_exporter": "python",
   "pygments_lexer": "ipython3",
   "version": "3.12.11"
  }
 },
 "nbformat": 4,
 "nbformat_minor": 5
}
