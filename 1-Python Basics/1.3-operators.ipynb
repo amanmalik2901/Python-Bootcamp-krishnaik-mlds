{
 "cells": [
  {
   "cell_type": "markdown",
   "id": "8c743772",
   "metadata": {},
   "source": [
    "## Operator in Python"
   ]
  },
  {
   "cell_type": "markdown",
   "id": "8936f19b",
   "metadata": {},
   "source": [
    "### Arithmetic Operations"
   ]
  },
  {
   "cell_type": "code",
   "execution_count": 1,
   "id": "c2ff3917",
   "metadata": {},
   "outputs": [
    {
     "name": "stdout",
     "output_type": "stream",
     "text": [
      "15\n",
      "5\n",
      "50\n",
      "2.0\n",
      "2\n",
      "0\n",
      "100000\n"
     ]
    }
   ],
   "source": [
    "a = 10\n",
    "b = 5\n",
    "\n",
    "add_res = a+b               #addition\n",
    "sub_res = a-b               #subtraction\n",
    "mul_res = a*b               #multiplication\n",
    "div_res = a/b               #division\n",
    "floor_div_res = a//b        #floor division\n",
    "modulus_res = a%b           #modulus operation\n",
    "exponent_res = a**b         #exponentiation\n",
    "\n",
    "print(add_res)\n",
    "print(sub_res)\n",
    "print(mul_res)\n",
    "print(div_res)\n",
    "print(floor_div_res)\n",
    "print(modulus_res)\n",
    "print(exponent_res)\n"
   ]
  },
  {
   "cell_type": "code",
   "execution_count": 2,
   "id": "2235b980",
   "metadata": {},
   "outputs": [
    {
     "data": {
      "text/plain": [
       "2.0"
      ]
     },
     "execution_count": 2,
     "metadata": {},
     "output_type": "execute_result"
    }
   ],
   "source": [
    "10/5"
   ]
  },
  {
   "cell_type": "code",
   "execution_count": 3,
   "id": "083f4d16",
   "metadata": {},
   "outputs": [
    {
     "data": {
      "text/plain": [
       "4.2"
      ]
     },
     "execution_count": 3,
     "metadata": {},
     "output_type": "execute_result"
    }
   ],
   "source": [
    "21/5"
   ]
  },
  {
   "cell_type": "code",
   "execution_count": 5,
   "id": "ee9c314f",
   "metadata": {},
   "outputs": [
    {
     "data": {
      "text/plain": [
       "4"
      ]
     },
     "execution_count": 5,
     "metadata": {},
     "output_type": "execute_result"
    }
   ],
   "source": [
    "21//5   #only gives floor value"
   ]
  },
  {
   "cell_type": "markdown",
   "id": "78838798",
   "metadata": {},
   "source": [
    "### Comparison Operators"
   ]
  },
  {
   "cell_type": "code",
   "execution_count": 6,
   "id": "dbd268a2",
   "metadata": {},
   "outputs": [
    {
     "data": {
      "text/plain": [
       "True"
      ]
     },
     "execution_count": 6,
     "metadata": {},
     "output_type": "execute_result"
    }
   ],
   "source": [
    "# Equal to operator => ==\n",
    "a = 10\n",
    "b = 10\n",
    "\n",
    "a==b"
   ]
  },
  {
   "cell_type": "code",
   "execution_count": 7,
   "id": "6ab7cd7a",
   "metadata": {},
   "outputs": [
    {
     "data": {
      "text/plain": [
       "False"
      ]
     },
     "execution_count": 7,
     "metadata": {},
     "output_type": "execute_result"
    }
   ],
   "source": [
    "# Not Equal to operator => !=\n",
    "str1 = \"Krish\"\n",
    "str2 = \"Krish\"\n",
    "\n",
    "str1 != str2"
   ]
  },
  {
   "cell_type": "code",
   "execution_count": 8,
   "id": "8421d40d",
   "metadata": {},
   "outputs": [
    {
     "data": {
      "text/plain": [
       "True"
      ]
     },
     "execution_count": 8,
     "metadata": {},
     "output_type": "execute_result"
    }
   ],
   "source": [
    "str3 = \"Krish\"\n",
    "str4 = \"krish\"\n",
    "\n",
    "str3 != str4"
   ]
  },
  {
   "cell_type": "code",
   "execution_count": 9,
   "id": "545805fa",
   "metadata": {},
   "outputs": [
    {
     "data": {
      "text/plain": [
       "False"
      ]
     },
     "execution_count": 9,
     "metadata": {},
     "output_type": "execute_result"
    }
   ],
   "source": [
    "# Greater than operator => >\n",
    "num1 = 45\n",
    "num2 = 55\n",
    "\n",
    "num1>num2"
   ]
  },
  {
   "cell_type": "code",
   "execution_count": 10,
   "id": "da207a0b",
   "metadata": {},
   "outputs": [
    {
     "data": {
      "text/plain": [
       "True"
      ]
     },
     "execution_count": 10,
     "metadata": {},
     "output_type": "execute_result"
    }
   ],
   "source": [
    "# Less Than Operator => <\n",
    "num1<num2"
   ]
  },
  {
   "cell_type": "code",
   "execution_count": 12,
   "id": "b46e446a",
   "metadata": {},
   "outputs": [
    {
     "data": {
      "text/plain": [
       "True"
      ]
     },
     "execution_count": 12,
     "metadata": {},
     "output_type": "execute_result"
    }
   ],
   "source": [
    "# Greater than or equal to operator => >=\n",
    "number1 = 20\n",
    "number2 = 20\n",
    "\n",
    "number1>=number2"
   ]
  },
  {
   "cell_type": "code",
   "execution_count": 13,
   "id": "d72c1a40",
   "metadata": {},
   "outputs": [
    {
     "data": {
      "text/plain": [
       "True"
      ]
     },
     "execution_count": 13,
     "metadata": {},
     "output_type": "execute_result"
    }
   ],
   "source": [
    "# Less than or equal to operator => <=\n",
    "number1<=number2"
   ]
  },
  {
   "cell_type": "markdown",
   "id": "bffdec79",
   "metadata": {},
   "source": [
    "### Logical Operators"
   ]
  },
  {
   "cell_type": "code",
   "execution_count": 14,
   "id": "ee29f7a3",
   "metadata": {},
   "outputs": [
    {
     "name": "stdout",
     "output_type": "stream",
     "text": [
      "True\n",
      "False\n",
      "False\n",
      "False\n"
     ]
    }
   ],
   "source": [
    "# And operation => and\n",
    "X = True\n",
    "Y = True\n",
    "result = X and Y\n",
    "print(result)\n",
    "\n",
    "X = True\n",
    "Y = False\n",
    "result = X and Y\n",
    "print(result)\n",
    "\n",
    "X = False\n",
    "Y = True\n",
    "result = X and Y\n",
    "print(result)\n",
    "\n",
    "X = False\n",
    "Y = False\n",
    "result = X and Y\n",
    "print(result)"
   ]
  },
  {
   "cell_type": "code",
   "execution_count": 15,
   "id": "9a1be0cb",
   "metadata": {},
   "outputs": [
    {
     "name": "stdout",
     "output_type": "stream",
     "text": [
      "True\n",
      "True\n",
      "True\n",
      "False\n"
     ]
    }
   ],
   "source": [
    "# Or operation => or\n",
    "X = True\n",
    "Y = True\n",
    "result = X or Y\n",
    "print(result)\n",
    "\n",
    "X = True\n",
    "Y = False\n",
    "result = X or Y\n",
    "print(result)\n",
    "\n",
    "X = False\n",
    "Y = True\n",
    "result = X or Y\n",
    "print(result)\n",
    "\n",
    "X = False\n",
    "Y = False\n",
    "result = X or Y\n",
    "print(result)"
   ]
  },
  {
   "cell_type": "code",
   "execution_count": 16,
   "id": "1832f64d",
   "metadata": {},
   "outputs": [
    {
     "data": {
      "text/plain": [
       "True"
      ]
     },
     "execution_count": 16,
     "metadata": {},
     "output_type": "execute_result"
    }
   ],
   "source": [
    "# Not Operator => not\n",
    "X = False\n",
    "not X"
   ]
  },
  {
   "cell_type": "markdown",
   "id": "fa4bd29c",
   "metadata": {},
   "source": [
    "### Simple Calculator"
   ]
  },
  {
   "cell_type": "code",
   "execution_count": 17,
   "id": "f8defb91",
   "metadata": {},
   "outputs": [
    {
     "name": "stdout",
     "output_type": "stream",
     "text": [
      "60.0\n",
      "20.0\n",
      "800.0\n",
      "2.0\n",
      "2.0\n",
      "0.0\n",
      "1.099511627776e+32\n"
     ]
    }
   ],
   "source": [
    "num1 = float(input(\"enter first no:\"))\n",
    "num2 = float(input(\"enter second no:\"))\n",
    "\n",
    "addition = num1 + num2\n",
    "subtraction = num1 - num2\n",
    "multiplication = num1*num2\n",
    "division = num1/num2\n",
    "floor_divsion = num1//num2\n",
    "modulus = num1%num2\n",
    "exponentiation = num1**num2\n",
    "\n",
    "print(addition)\n",
    "print(subtraction)\n",
    "print(multiplication)\n",
    "print(division)\n",
    "print(floor_divsion)\n",
    "print(modulus)\n",
    "print(exponentiation)"
   ]
  }
 ],
 "metadata": {
  "kernelspec": {
   "display_name": "Python 3",
   "language": "python",
   "name": "python3"
  },
  "language_info": {
   "codemirror_mode": {
    "name": "ipython",
    "version": 3
   },
   "file_extension": ".py",
   "mimetype": "text/x-python",
   "name": "python",
   "nbconvert_exporter": "python",
   "pygments_lexer": "ipython3",
   "version": "3.12.11"
  }
 },
 "nbformat": 4,
 "nbformat_minor": 5
}
