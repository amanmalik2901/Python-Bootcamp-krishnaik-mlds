{
 "cells": [
  {
   "cell_type": "markdown",
   "id": "fa21780b",
   "metadata": {},
   "source": [
    "## Range\n",
    "### 1 parameter, 2 parameter, 3 parameter"
   ]
  },
  {
   "cell_type": "code",
   "execution_count": 4,
   "id": "94c1c56a",
   "metadata": {},
   "outputs": [
    {
     "name": "stdout",
     "output_type": "stream",
     "text": [
      "0\n",
      "1\n",
      "2\n",
      "3\n",
      "4\n",
      "5\n",
      "6\n",
      "7\n",
      "8\n",
      "9\n"
     ]
    }
   ],
   "source": [
    "# 1 parameter\n",
    "range(10)       # numbers from 0 to 9\n",
    "\n",
    "for i in range(10):\n",
    "    print(i)"
   ]
  },
  {
   "cell_type": "code",
   "execution_count": 5,
   "id": "919d3148",
   "metadata": {},
   "outputs": [
    {
     "name": "stdout",
     "output_type": "stream",
     "text": [
      "1\n",
      "2\n",
      "3\n",
      "4\n",
      "5\n",
      "6\n",
      "7\n",
      "8\n",
      "9\n"
     ]
    }
   ],
   "source": [
    "# 2 pararmeter\n",
    "range(1,10)     # numbers from 1 to 9\n",
    "\n",
    "for i in range(1,10):\n",
    "    print(i)"
   ]
  },
  {
   "cell_type": "code",
   "execution_count": 6,
   "id": "7395db84",
   "metadata": {},
   "outputs": [
    {
     "name": "stdout",
     "output_type": "stream",
     "text": [
      "1\n",
      "3\n",
      "5\n",
      "7\n",
      "9\n"
     ]
    }
   ],
   "source": [
    "# 3 parameter\n",
    "range(1,10,2)       #numbers 1,3,5,7,9 => 2 is the step count\n",
    "\n",
    "for i in range(1,10,2):\n",
    "    print(i)"
   ]
  },
  {
   "cell_type": "markdown",
   "id": "6720da33",
   "metadata": {},
   "source": [
    "## String Traversing"
   ]
  },
  {
   "cell_type": "code",
   "execution_count": 7,
   "id": "dfc07160",
   "metadata": {},
   "outputs": [
    {
     "name": "stdout",
     "output_type": "stream",
     "text": [
      "h\n",
      "e\n",
      "l\n",
      "l\n",
      "o\n",
      " \n",
      "w\n",
      "o\n",
      "r\n",
      "l\n",
      "d\n"
     ]
    }
   ],
   "source": [
    "str = \"hello world\"\n",
    "for i in str:           # i in this is a character of string\n",
    "    print(i)"
   ]
  },
  {
   "cell_type": "markdown",
   "id": "e7a5dea8",
   "metadata": {},
   "source": [
    "## For Loop"
   ]
  },
  {
   "cell_type": "code",
   "execution_count": 8,
   "id": "83f5e88b",
   "metadata": {},
   "outputs": [
    {
     "name": "stdout",
     "output_type": "stream",
     "text": [
      "1\n",
      "5\n",
      "9\n",
      "13\n",
      "17\n"
     ]
    }
   ],
   "source": [
    "for i in range(1,20,4):\n",
    "    print(i)"
   ]
  },
  {
   "cell_type": "markdown",
   "id": "1ec74e0e",
   "metadata": {},
   "source": [
    "## While Loop"
   ]
  },
  {
   "cell_type": "code",
   "execution_count": 11,
   "id": "701b712e",
   "metadata": {},
   "outputs": [
    {
     "name": "stdout",
     "output_type": "stream",
     "text": [
      "0\n",
      "1\n",
      "2\n",
      "3\n",
      "4\n",
      "5\n",
      "6\n",
      "7\n",
      "8\n",
      "9\n"
     ]
    }
   ],
   "source": [
    "i = 0\n",
    "count = 10\n",
    "\n",
    "while i<count:\n",
    "    print(i)\n",
    "    i=i+1"
   ]
  },
  {
   "cell_type": "markdown",
   "id": "37b1efdd",
   "metadata": {},
   "source": [
    "## Loop Control Statements\n",
    "    1. Break Statement\n",
    "    2. Continue Statement (odd no example)\n",
    "    3. Pass statement (null statement)"
   ]
  },
  {
   "cell_type": "code",
   "execution_count": 13,
   "id": "863a2dd7",
   "metadata": {},
   "outputs": [
    {
     "name": "stdout",
     "output_type": "stream",
     "text": [
      "2\n",
      "3\n",
      "4\n",
      "5\n",
      "6\n",
      "The road ahead is blocked by a BIG BLOCK ⛰️\n"
     ]
    }
   ],
   "source": [
    "# Break Statement\n",
    "for i in range(2,10):\n",
    "    if i==7:\n",
    "        print(\"The road ahead is blocked by a BIG BLOCK ⛰️\")\n",
    "        break\n",
    "    print(i)"
   ]
  },
  {
   "cell_type": "code",
   "execution_count": 16,
   "id": "69e930c9",
   "metadata": {},
   "outputs": [
    {
     "name": "stdout",
     "output_type": "stream",
     "text": [
      "1\n",
      "2\n",
      "3\n",
      "4\n",
      "Hey im 5 and im busy. Go to the next number!\n",
      "6\n",
      "7\n",
      "8\n",
      "9\n"
     ]
    }
   ],
   "source": [
    "# Continue Statement\n",
    "for i in range(1,10):\n",
    "    if i==5:\n",
    "        print(\"Hey im 5 and im busy. Go to the next number!\")\n",
    "        continue\n",
    "    print(i)"
   ]
  },
  {
   "cell_type": "code",
   "execution_count": 17,
   "id": "b2c4f709",
   "metadata": {},
   "outputs": [
    {
     "name": "stdout",
     "output_type": "stream",
     "text": [
      "1\n",
      "2\n",
      "3\n",
      "4\n",
      "Hey im 5 and if you want to do something extra for me only you can do it here\n",
      "5\n",
      "6\n",
      "7\n",
      "8\n",
      "9\n"
     ]
    }
   ],
   "source": [
    "# Pass Statement\n",
    "for i in range(1,10):\n",
    "    if(i==5):\n",
    "        print(\"Hey im 5 and if you want to do something extra for me only you can do it here\")\n",
    "        pass\n",
    "    print(i)"
   ]
  },
  {
   "cell_type": "markdown",
   "id": "529b742f",
   "metadata": {},
   "source": [
    "## Nested loops\n",
    "f-string example"
   ]
  },
  {
   "cell_type": "code",
   "execution_count": 19,
   "id": "ad3f1a12",
   "metadata": {},
   "outputs": [
    {
     "name": "stdout",
     "output_type": "stream",
     "text": [
      "i:1 and j:1\n",
      "i:1 and j:2\n",
      "i:1 and j:3\n",
      "i:1 and j:4\n",
      "i:1 and j:5\n",
      "i:1 and j:6\n",
      "i:2 and j:1\n",
      "i:2 and j:2\n",
      "i:2 and j:3\n",
      "i:2 and j:4\n",
      "i:2 and j:5\n",
      "i:2 and j:6\n",
      "i:3 and j:1\n",
      "i:3 and j:2\n",
      "i:3 and j:3\n",
      "i:3 and j:4\n",
      "i:3 and j:5\n",
      "i:3 and j:6\n",
      "i:4 and j:1\n",
      "i:4 and j:2\n",
      "i:4 and j:3\n",
      "i:4 and j:4\n",
      "i:4 and j:5\n",
      "i:4 and j:6\n"
     ]
    }
   ],
   "source": [
    "for i in range(1,5):\n",
    "    for j in range(1,7):\n",
    "        print(f\"i:{i} and j:{j}\")"
   ]
  },
  {
   "cell_type": "markdown",
   "id": "173bb266",
   "metadata": {},
   "source": [
    "## Examples:\n",
    "        1. sum of first 10 natural numbers (while loop and for loop)\n",
    "        2. prime numbers between 1 and 100 (for loop)"
   ]
  },
  {
   "cell_type": "code",
   "execution_count": 22,
   "id": "774bb3e1",
   "metadata": {},
   "outputs": [
    {
     "name": "stdout",
     "output_type": "stream",
     "text": [
      "Sum = 55\n"
     ]
    }
   ],
   "source": [
    "# sum of first 10 natural numbers-for loop\n",
    "\n",
    "n = 10\n",
    "sum = 0\n",
    "\n",
    "for i in range(1,n+1):\n",
    "    sum = sum+i\n",
    "    i = i+1\n",
    "print(\"Sum =\",sum)"
   ]
  },
  {
   "cell_type": "code",
   "execution_count": 27,
   "id": "186e1a0c",
   "metadata": {},
   "outputs": [
    {
     "name": "stdout",
     "output_type": "stream",
     "text": [
      "Sum = 55\n"
     ]
    }
   ],
   "source": [
    "# sum of first 10 natural numbers-while loop\n",
    "\n",
    "n = 10\n",
    "sum = 0\n",
    "\n",
    "while n>0:\n",
    "    sum = sum+n\n",
    "    n = n-1\n",
    "\n",
    "print(\"Sum =\",sum)"
   ]
  },
  {
   "cell_type": "code",
   "execution_count": 38,
   "id": "ade4d971",
   "metadata": {},
   "outputs": [
    {
     "name": "stdout",
     "output_type": "stream",
     "text": [
      "2\n",
      "3\n",
      "5\n",
      "7\n",
      "11\n",
      "13\n",
      "17\n",
      "19\n",
      "23\n",
      "29\n",
      "31\n",
      "37\n",
      "41\n",
      "43\n",
      "47\n",
      "53\n",
      "59\n",
      "61\n",
      "67\n",
      "71\n",
      "73\n",
      "79\n",
      "83\n",
      "89\n",
      "97\n"
     ]
    }
   ],
   "source": [
    "# prime numbers between 1 and 100 - for loop\n",
    "\n",
    "for i in range(2,101):\n",
    "    prime = True\n",
    "    for j in range(2,i):\n",
    "        if i%j==0:\n",
    "            prime = False\n",
    "            break\n",
    "        j = j+1\n",
    "    if prime==True:\n",
    "        print(i)\n",
    "    i = i+1\n",
    "\n"
   ]
  }
 ],
 "metadata": {
  "kernelspec": {
   "display_name": "Python 3",
   "language": "python",
   "name": "python3"
  },
  "language_info": {
   "codemirror_mode": {
    "name": "ipython",
    "version": 3
   },
   "file_extension": ".py",
   "mimetype": "text/x-python",
   "name": "python",
   "nbconvert_exporter": "python",
   "pygments_lexer": "ipython3",
   "version": "3.12.11"
  }
 },
 "nbformat": 4,
 "nbformat_minor": 5
}
