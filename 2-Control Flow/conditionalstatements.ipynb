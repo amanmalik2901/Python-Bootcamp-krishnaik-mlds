{
 "cells": [
  {
   "cell_type": "markdown",
   "id": "d4ae6b47",
   "metadata": {},
   "source": [
    "## If Statement"
   ]
  },
  {
   "cell_type": "code",
   "execution_count": 1,
   "id": "acf4ade7",
   "metadata": {},
   "outputs": [
    {
     "name": "stdout",
     "output_type": "stream",
     "text": [
      "You can vote\n"
     ]
    }
   ],
   "source": [
    "age = 20\n",
    "\n",
    "if age>=18:\n",
    "    print(\"You can vote\")"
   ]
  },
  {
   "cell_type": "markdown",
   "id": "ad20f548",
   "metadata": {},
   "source": [
    "## Else Statement"
   ]
  },
  {
   "cell_type": "code",
   "execution_count": 3,
   "id": "1ecdce06",
   "metadata": {},
   "outputs": [
    {
     "name": "stdout",
     "output_type": "stream",
     "text": [
      "Yu can't vote\n"
     ]
    }
   ],
   "source": [
    "age=16\n",
    "\n",
    "if age>=18:\n",
    "    print(\"You can vote\")\n",
    "else:\n",
    "    print(\"Yu can't vote\")"
   ]
  },
  {
   "cell_type": "markdown",
   "id": "dde283d3",
   "metadata": {},
   "source": [
    "## Elif Statement"
   ]
  },
  {
   "cell_type": "code",
   "execution_count": 5,
   "id": "38c9c219",
   "metadata": {},
   "outputs": [
    {
     "name": "stdout",
     "output_type": "stream",
     "text": [
      "You are a teenager\n"
     ]
    }
   ],
   "source": [
    "age = 16\n",
    "if age<13:\n",
    "    print(\"you are a child\")\n",
    "elif age<18:\n",
    "    print(\"You are a teenager\")\n",
    "else:\n",
    "    print(\"You are an adult\")"
   ]
  },
  {
   "cell_type": "markdown",
   "id": "54f342a6",
   "metadata": {},
   "source": [
    "## Nested Conditional Statements"
   ]
  },
  {
   "cell_type": "code",
   "execution_count": 9,
   "id": "3033d8e3",
   "metadata": {},
   "outputs": [
    {
     "name": "stdout",
     "output_type": "stream",
     "text": [
      "Number is negative\n",
      "Number is even\n"
     ]
    }
   ],
   "source": [
    "\n",
    "# Number positive, negative or zero => even or odd\n",
    "\n",
    "num = int(input(\"Enter a number\"))\n",
    "\n",
    "if num>0:\n",
    "    print(\"Number is positive\")\n",
    "    if num%2==0:\n",
    "        print(\"Number is even\")\n",
    "    else:\n",
    "        print(\"Number is odd\")\n",
    "elif num<0:\n",
    "    print(\"Number is negative\")\n",
    "    if num%2==0:\n",
    "        print(\"Number is even\")\n",
    "    else:\n",
    "        print(\"Number is odd\")\n",
    "else:\n",
    "    print(\"Number is zero\")"
   ]
  },
  {
   "cell_type": "markdown",
   "id": "93b6bdb3",
   "metadata": {},
   "source": [
    "## Practical Ecamples"
   ]
  },
  {
   "cell_type": "code",
   "execution_count": 18,
   "id": "3d811bc9",
   "metadata": {},
   "outputs": [
    {
     "name": "stdout",
     "output_type": "stream",
     "text": [
      "Year is not a leap year\n"
     ]
    }
   ],
   "source": [
    "# Determine whether an year is a leap year or not\n",
    "\n",
    "year = int(input(\"Enter the year\"))\n",
    "if year%100==0:\n",
    "    if year%400==0:\n",
    "        print(\"Year is a leap year\")\n",
    "    else:\n",
    "        print(\"Year is not a leap year\")\n",
    "else:\n",
    "    if year%4==0:\n",
    "        print(\"Year is a leap year\")\n",
    "    else:\n",
    "        print(\"Year is not a leap year\")\n"
   ]
  },
  {
   "cell_type": "code",
   "execution_count": 24,
   "id": "06549f56",
   "metadata": {},
   "outputs": [
    {
     "name": "stdout",
     "output_type": "stream",
     "text": [
      "numbers entered are: 201 20\n",
      "Here's your remainder👽 1\n"
     ]
    }
   ],
   "source": [
    "# Simple calculator\n",
    "\n",
    "num1 = int(input(\"Enter first number\"))\n",
    "num2 = int(input(\"Enter second number\"))\n",
    "operation = input(\"Enter operation to be performed\")\n",
    "print(\"numbers entered are:\",num1,num2)\n",
    "\n",
    "if operation=='+':\n",
    "    print(\"Here's your addition:\",num1+num2)\n",
    "elif operation=='-':\n",
    "    print(\"Here's your subtraction\",num1-num2)\n",
    "elif operation=='*':\n",
    "    print(\"Here's your multiplication\",num1*num2)\n",
    "elif operation=='/':\n",
    "    print(\"Here's your division\",num1/num2)\n",
    "elif operation=='%':\n",
    "    print(\"Here's your remainder👽\",num1%num2)"
   ]
  }
 ],
 "metadata": {
  "kernelspec": {
   "display_name": "Python 3",
   "language": "python",
   "name": "python3"
  },
  "language_info": {
   "codemirror_mode": {
    "name": "ipython",
    "version": 3
   },
   "file_extension": ".py",
   "mimetype": "text/x-python",
   "name": "python",
   "nbconvert_exporter": "python",
   "pygments_lexer": "ipython3",
   "version": "3.12.11"
  }
 },
 "nbformat": 4,
 "nbformat_minor": 5
}
