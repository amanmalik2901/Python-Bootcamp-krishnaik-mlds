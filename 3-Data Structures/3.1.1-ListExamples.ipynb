{
 "cells": [
  {
   "cell_type": "markdown",
   "id": "63d8aef3",
   "metadata": {},
   "source": [
    "## Real World Examples Using Lists in Python"
   ]
  },
  {
   "cell_type": "markdown",
   "id": "301bc20f",
   "metadata": {},
   "source": [
    "### Example 1: Manage a To Do List\n",
    "* Create a To Do List to keep track of tasks"
   ]
  },
  {
   "cell_type": "code",
   "execution_count": 1,
   "id": "71b47ba6",
   "metadata": {},
   "outputs": [
    {
     "name": "stdout",
     "output_type": "stream",
     "text": [
      "Do not forget to pay the utility bills\n",
      "\n",
      "To Do List remaining tasks:\n",
      "-Buy Groceries\n",
      "-Pay Bills\n",
      "-Schedule Meeting\n",
      "-Go for a run\n",
      "-Take a rest\n"
     ]
    }
   ],
   "source": [
    "to_do_list = [\"Buy Groceries\",\"Clean the house\",\"Pay Bills\"]\n",
    "\n",
    "# Adding tasks to the To DO List\n",
    "to_do_list.append(\"Schedule Meeting\")\n",
    "to_do_list.append(\"Go for a run\")\n",
    "to_do_list.append(\"Take a rest\")\n",
    "\n",
    "# Removing a completed task\n",
    "to_do_list.remove(\"Clean the house\")\n",
    "\n",
    "# Checking if the task is in the list\n",
    "if \"Pay Bills\" in to_do_list:\n",
    "    print(\"Do not forget to pay the utility bills\")\n",
    "\n",
    "print()\n",
    "print(\"To Do List remaining tasks:\")\n",
    "for task in to_do_list:\n",
    "    print(f\"-{task}\")"
   ]
  },
  {
   "cell_type": "markdown",
   "id": "bac87b0c",
   "metadata": {},
   "source": [
    "### Example 2: Organizing Studen Grades\n",
    "* Create a list to store and calculate average grades for students"
   ]
  },
  {
   "cell_type": "code",
   "execution_count": 3,
   "id": "9b4bced7",
   "metadata": {},
   "outputs": [
    {
     "name": "stdout",
     "output_type": "stream",
     "text": [
      "Average grade: 61.833\n",
      "\n",
      "Highest Grade: 98\n",
      "Lowest Grade: 23\n"
     ]
    }
   ],
   "source": [
    "# Organizing grades in list\n",
    "grades = [34,54,75,23,87]\n",
    "\n",
    "# Adding new grade\n",
    "grades.append(98)\n",
    "\n",
    "# Average grade calculation\n",
    "grade_avg = sum(grades)/len(grades)\n",
    "print(f\"Average grade: {grade_avg:.3f}\")\n",
    "print()\n",
    "\n",
    "# Finding max and min grades\n",
    "grade_highest = max(grades)\n",
    "grade_lowest = min(grades)\n",
    "print(f\"Highest Grade: {grade_highest}\")\n",
    "print(f\"Lowest Grade: {grade_lowest}\")"
   ]
  },
  {
   "cell_type": "markdown",
   "id": "c6a6c0e8",
   "metadata": {},
   "source": [
    "### Example 3: Managing an inventory\n",
    "* Use a list to manage inventory items in a store"
   ]
  },
  {
   "cell_type": "code",
   "execution_count": 4,
   "id": "f0e8c40d",
   "metadata": {},
   "outputs": [
    {
     "name": "stdout",
     "output_type": "stream",
     "text": [
      "oranges are out of stock\n",
      "\n",
      "-apples\n",
      "-bananas\n",
      "-grapes\n",
      "-strawberries\n"
     ]
    }
   ],
   "source": [
    "# Organizing items in a list\n",
    "inventory = [\"apples\",\"bananas\",\"oranges\",\"grapes\"]\n",
    "\n",
    "# Adding new item in inventory\n",
    "inventory.append(\"strawberries\")\n",
    "\n",
    "# Removing an item that's out of stock\n",
    "inventory.remove(\"oranges\")\n",
    "\n",
    "# Checking if an item is in stock or not\n",
    "item = \"oranges\"\n",
    "if item in inventory:\n",
    "    print(f\"{item} are in stock\")\n",
    "else:\n",
    "    print(f\"{item} are out of stock\")\n",
    "print()\n",
    "\n",
    "# Printing the inventory\n",
    "for item in inventory:\n",
    "    print(f\"-{item}\")"
   ]
  },
  {
   "cell_type": "markdown",
   "id": "3fd194d8",
   "metadata": {},
   "source": [
    "### Example 4: Collecting User Feedback\n",
    "* Use a list to collect and analyze user feedback"
   ]
  },
  {
   "cell_type": "code",
   "execution_count": 5,
   "id": "a2adf827",
   "metadata": {},
   "outputs": [
    {
     "name": "stdout",
     "output_type": "stream",
     "text": [
      "Positive Feedback Count: 2\n",
      "\n",
      "-Great Service!\n",
      "-Very Satisfied\n",
      "-Could be better\n",
      "-Excellent experience\n",
      "-Not Happy With The service\n"
     ]
    }
   ],
   "source": [
    "# Collecting USer Feedback\n",
    "feedback = [\"Great Service!\",\"Very Satisfied\",\"Could be better\",\"Excellent experience\"]\n",
    "\n",
    "# Adding new feedback\n",
    "feedback.append(\"Not Happy With The service\")\n",
    "\n",
    "# Counting specific feedback\n",
    "positive_feedback_count = sum(1 for comment in feedback if \"great\" in comment.lower() or \"excellent\" in comment.lower())\n",
    "print(f\"Positive Feedback Count: {positive_feedback_count}\")\n",
    "print()\n",
    "\n",
    "# Printing all feedback\n",
    "for comment in feedback:\n",
    "    print(f\"-{comment}\")"
   ]
  }
 ],
 "metadata": {
  "kernelspec": {
   "display_name": "Python 3",
   "language": "python",
   "name": "python3"
  },
  "language_info": {
   "codemirror_mode": {
    "name": "ipython",
    "version": 3
   },
   "file_extension": ".py",
   "mimetype": "text/x-python",
   "name": "python",
   "nbconvert_exporter": "python",
   "pygments_lexer": "ipython3",
   "version": "3.12.11"
  }
 },
 "nbformat": 4,
 "nbformat_minor": 5
}
