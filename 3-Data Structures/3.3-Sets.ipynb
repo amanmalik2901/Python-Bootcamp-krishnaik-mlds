{
 "cells": [
  {
   "cell_type": "markdown",
   "id": "b173c07c",
   "metadata": {},
   "source": [
    "## Sets\n",
    "        => Unordered collection\n",
    "        => Store collections of unique items\n",
    "        => Do not allow duplicate elements\n",
    "        => Useful for: \n",
    "                - Membership Tests\n",
    "                - Eliminating Duplicate Entries\n",
    "                - Performing Mathematical Set Operations\n",
    "                        > Union\n",
    "                        > Intersection\n",
    "                        > Difference\n",
    "                        > Symmetric Difference"
   ]
  },
  {
   "cell_type": "code",
   "execution_count": 1,
   "id": "81b51afc",
   "metadata": {},
   "outputs": [
    {
     "name": "stdout",
     "output_type": "stream",
     "text": [
      "{1, 2, 3, 4, 5}\n",
      "<class 'set'>\n"
     ]
    }
   ],
   "source": [
    "# Creating a Set\n",
    "my_set = {1,2,3,4,5}\n",
    "print(my_set)\n",
    "print(type(my_set))"
   ]
  },
  {
   "cell_type": "code",
   "execution_count": 3,
   "id": "ad71cc1a",
   "metadata": {},
   "outputs": [
    {
     "name": "stdout",
     "output_type": "stream",
     "text": [
      "set()\n",
      "<class 'set'>\n"
     ]
    }
   ],
   "source": [
    "# Creating an empty using class function\n",
    "my_empty_set = set()\n",
    "print(my_empty_set)\n",
    "print(type(my_empty_set))"
   ]
  },
  {
   "cell_type": "code",
   "execution_count": 4,
   "id": "eb2285fe",
   "metadata": {},
   "outputs": [
    {
     "name": "stdout",
     "output_type": "stream",
     "text": [
      "{1, 2, 3, 4, 5, 6}\n"
     ]
    }
   ],
   "source": [
    "# Typecasting a list or tuple to the set class\n",
    "my_set = set([1,2,3,4,5,6])\n",
    "print(my_set)"
   ]
  },
  {
   "cell_type": "code",
   "execution_count": 5,
   "id": "75294c6f",
   "metadata": {},
   "outputs": [
    {
     "name": "stdout",
     "output_type": "stream",
     "text": [
      "{1, 2, 3, 4, 5, 6}\n"
     ]
    }
   ],
   "source": [
    "## When duplicate items are present\n",
    "my_set = set([1,2,1,2,3,4,5,1,4,3,4,5,6])\n",
    "print(my_set)"
   ]
  },
  {
   "cell_type": "code",
   "execution_count": 14,
   "id": "e7b001d3",
   "metadata": {},
   "outputs": [
    {
     "name": "stdout",
     "output_type": "stream",
     "text": [
      "{1, 2, 3, 4, 5, 6}\n",
      "{1, 2, 3, 4, 5, 6, 7}\n",
      "{1, 2, 3, 4, 5, 6, 7}\n",
      "{1, 2, 4, 5, 6, 7}\n",
      "{1, 2, 4, 5, 6, 7}\n",
      "Popping an element:\n",
      "1\n",
      "{2, 4, 5, 6, 7}\n",
      "Clearing all the elements:\n",
      "set()\n"
     ]
    }
   ],
   "source": [
    "# Basic Set Operations\n",
    "my_set = set([1,2,1,2,3,4,5,1,4,3,4,5,6])\n",
    "print(my_set)\n",
    "# Adding and Removing Elements\n",
    "\n",
    "# Adding\n",
    "my_set.add(7)\n",
    "print(my_set)\n",
    "my_set.add(7)\n",
    "print(my_set)\n",
    "\n",
    "# Removing\n",
    "my_set.remove(3)\n",
    "print(my_set)\n",
    "\n",
    "# my_set.remove(10) #=> 10 is not present in the set so it will give a key error\n",
    "# So we use another method to remove element only when it is present => discard\n",
    "my_set.discard(10)\n",
    "print(my_set)\n",
    "\n",
    "# Pop element\n",
    "print(\"Popping an element:\")\n",
    "removed_element = my_set.pop()\n",
    "print(removed_element)\n",
    "print(my_set)\n",
    "\n",
    "# Clearing all the elements\n",
    "print(\"Clearing all the elements:\")\n",
    "my_set.clear()\n",
    "print(my_set)\n"
   ]
  },
  {
   "cell_type": "code",
   "execution_count": 18,
   "id": "ad58cf1b",
   "metadata": {},
   "outputs": [
    {
     "name": "stdout",
     "output_type": "stream",
     "text": [
      "True\n",
      "False\n"
     ]
    }
   ],
   "source": [
    "# Set Membership Test\n",
    "my_set = {1,2,3,4,5}\n",
    "print(3 in my_set)\n",
    "print(10 in my_set)\n"
   ]
  },
  {
   "cell_type": "code",
   "execution_count": 22,
   "id": "489a0901",
   "metadata": {},
   "outputs": [
    {
     "name": "stdout",
     "output_type": "stream",
     "text": [
      "{1, 2, 3, 4, 5, 6, 7, 8, 9}\n",
      "{4, 5, 6}\n",
      "{4, 5, 6}\n",
      "set()\n"
     ]
    }
   ],
   "source": [
    "# Mathematical Operations\n",
    "\n",
    "set1 = {1,2,3,4,5,6}\n",
    "set2 = {4,5,6,7,8,9}\n",
    "\n",
    "# Union\n",
    "union_set = set1.union(set2)\n",
    "print(union_set)\n",
    "\n",
    "# Intersection\n",
    "intersection_set = set1.intersection(set2)\n",
    "print(intersection_set)\n",
    "\n",
    "# Intersection update\n",
    "set1.intersection_update(set2)\n",
    "print(set1)\n"
   ]
  },
  {
   "cell_type": "code",
   "execution_count": 24,
   "id": "afdc708d",
   "metadata": {},
   "outputs": [
    {
     "name": "stdout",
     "output_type": "stream",
     "text": [
      "{1, 2, 3}\n",
      "{1, 2, 3}\n"
     ]
    }
   ],
   "source": [
    "set1 = {1,2,3,4,5,6}\n",
    "set2 = {4,5,6,7,8,9}\n",
    "\n",
    "# Difference\n",
    "print(set1.difference(set2))\n",
    "\n",
    "# Difference Update\n",
    "set1.difference_update(set2)\n",
    "print(set1)"
   ]
  },
  {
   "cell_type": "code",
   "execution_count": 25,
   "id": "c1f535e6",
   "metadata": {},
   "outputs": [
    {
     "data": {
      "text/plain": [
       "{1, 2, 3, 7, 8, 9}"
      ]
     },
     "execution_count": 25,
     "metadata": {},
     "output_type": "execute_result"
    }
   ],
   "source": [
    "set1 = {1,2,3,4,5,6}\n",
    "set2 = {4,5,6,7,8,9}\n",
    "\n",
    "# Symmetric Difference\n",
    "set1.symmetric_difference(set2)"
   ]
  },
  {
   "cell_type": "code",
   "execution_count": 26,
   "id": "1c8b2c7c",
   "metadata": {},
   "outputs": [
    {
     "name": "stdout",
     "output_type": "stream",
     "text": [
      "False\n",
      "True\n"
     ]
    }
   ],
   "source": [
    "## Set Methods\n",
    "set1 = {1,2,3,4,5}\n",
    "set2 = {3,4,5}\n",
    "\n",
    "# issubset\n",
    "print(set1.issubset(set2))\n",
    "\n",
    "# issuperset\n",
    "print(set1.issuperset(set2))\n",
    "\n"
   ]
  },
  {
   "cell_type": "code",
   "execution_count": 27,
   "id": "40597b43",
   "metadata": {},
   "outputs": [
    {
     "data": {
      "text/plain": [
       "{1, 2, 3, 22, 34, 54, 134, 413, 4312}"
      ]
     },
     "execution_count": 27,
     "metadata": {},
     "output_type": "execute_result"
    }
   ],
   "source": [
    "# If we want to remove duplicates from a lsit => just make it a set\n",
    "lst = [1,2,3,4312,413,54,34,134,1,22,3,3,1]\n",
    "set(lst)"
   ]
  },
  {
   "cell_type": "code",
   "execution_count": 28,
   "id": "71e652ea",
   "metadata": {},
   "outputs": [
    {
     "name": "stdout",
     "output_type": "stream",
     "text": [
      "{'hi', 'he', 'heakjhlkasdfh', 'ha', 'are', 'how', 'Hello', 'you'}\n",
      "8\n"
     ]
    }
   ],
   "source": [
    "# Counting Unique Words in the Text\n",
    "text = \"Hello hi how are you he he ha ha heakjhlkasdfh\"\n",
    "words = text.split()\n",
    "\n",
    "# Convert list of words to set to get unique words\n",
    "unique_words = set(words)\n",
    "print(unique_words)\n",
    "print(len(unique_words))"
   ]
  }
 ],
 "metadata": {
  "kernelspec": {
   "display_name": "Python 3",
   "language": "python",
   "name": "python3"
  },
  "language_info": {
   "codemirror_mode": {
    "name": "ipython",
    "version": 3
   },
   "file_extension": ".py",
   "mimetype": "text/x-python",
   "name": "python",
   "nbconvert_exporter": "python",
   "pygments_lexer": "ipython3",
   "version": "3.12.11"
  }
 },
 "nbformat": 4,
 "nbformat_minor": 5
}
