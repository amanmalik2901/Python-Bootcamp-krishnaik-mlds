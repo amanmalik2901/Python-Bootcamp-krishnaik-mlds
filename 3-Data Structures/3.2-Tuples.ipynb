{
 "cells": [
  {
   "cell_type": "markdown",
   "id": "57195c2b",
   "metadata": {},
   "source": [
    "## Tuples\n",
    "    => Ordered, immutable collections of items"
   ]
  },
  {
   "cell_type": "code",
   "execution_count": 1,
   "id": "a2abf396",
   "metadata": {},
   "outputs": [
    {
     "name": "stdout",
     "output_type": "stream",
     "text": [
      "()\n",
      "<class 'tuple'>\n"
     ]
    }
   ],
   "source": [
    "# Creating a Tuple\n",
    "empty_tuple = ()\n",
    "print(empty_tuple)\n",
    "print(type(empty_tuple))"
   ]
  },
  {
   "cell_type": "code",
   "execution_count": 2,
   "id": "afbb3342",
   "metadata": {},
   "outputs": [
    {
     "name": "stdout",
     "output_type": "stream",
     "text": [
      "<class 'tuple'>\n",
      "<class 'list'>\n"
     ]
    }
   ],
   "source": [
    "## Another method to create empty tuple\n",
    "tpl = tuple()\n",
    "print(type(tpl))\n",
    "\n",
    "# Another method to create empty list\n",
    "lst = list()\n",
    "print(type(lst))"
   ]
  },
  {
   "cell_type": "code",
   "execution_count": 3,
   "id": "55b77c56",
   "metadata": {},
   "outputs": [
    {
     "data": {
      "text/plain": [
       "(1, 2, 3, 4, 5, 6, 7)"
      ]
     },
     "execution_count": 3,
     "metadata": {},
     "output_type": "execute_result"
    }
   ],
   "source": [
    "# A lsit can be converted to a tuple\n",
    "\n",
    "numbers = tuple([1,2,3,4,5,6,7])\n",
    "numbers"
   ]
  },
  {
   "cell_type": "code",
   "execution_count": 4,
   "id": "cbc53860",
   "metadata": {},
   "outputs": [
    {
     "data": {
      "text/plain": [
       "[1, 2, 3, 4, 5, 6, 7, 8]"
      ]
     },
     "execution_count": 4,
     "metadata": {},
     "output_type": "execute_result"
    }
   ],
   "source": [
    "# A tuple can be converted to a list\n",
    "list((1,2,3,4,5,6,7,8))"
   ]
  },
  {
   "cell_type": "code",
   "execution_count": 5,
   "id": "89b122ad",
   "metadata": {},
   "outputs": [
    {
     "name": "stdout",
     "output_type": "stream",
     "text": [
      "('hello', 'world', 1, 2, 3.14)\n"
     ]
    }
   ],
   "source": [
    "# We can use different data types in tuple\n",
    "mixed_tuple = (\"hello\",\"world\",1,2,3.14)\n",
    "print(mixed_tuple)"
   ]
  },
  {
   "cell_type": "code",
   "execution_count": 8,
   "id": "e0b6e3a4",
   "metadata": {},
   "outputs": [
    {
     "name": "stdout",
     "output_type": "stream",
     "text": [
      "(1, 2, 3, 4, 5, 6, 7)\n",
      "1\n",
      "2\n",
      "3\n",
      "4\n",
      "5\n",
      "6\n",
      "7\n",
      "7\n",
      "6\n",
      "5\n",
      "4\n",
      "3\n",
      "2\n",
      "1\n"
     ]
    }
   ],
   "source": [
    "# Accessing the Tuple Elements\n",
    "\n",
    "print(numbers)\n",
    "\n",
    "print(numbers[0])\n",
    "print(numbers[1])\n",
    "print(numbers[2])\n",
    "print(numbers[3])\n",
    "print(numbers[4])\n",
    "print(numbers[5])\n",
    "print(numbers[6])\n",
    "print(numbers[-1])\n",
    "print(numbers[-2])\n",
    "print(numbers[-3])\n",
    "print(numbers[-4])\n",
    "print(numbers[-5])\n",
    "print(numbers[-6])\n",
    "print(numbers[-7])\n"
   ]
  },
  {
   "cell_type": "code",
   "execution_count": 10,
   "id": "8b7cbe83",
   "metadata": {},
   "outputs": [
    {
     "name": "stdout",
     "output_type": "stream",
     "text": [
      "(2, 3, 4)\n",
      "(7, 6, 5, 4, 3, 2, 1)\n",
      "(1, 3, 5, 7)\n"
     ]
    }
   ],
   "source": [
    "# Tuple Slicing=> similar to lists\n",
    "\n",
    "print(numbers[1:4])\n",
    "print(numbers[::-1])\n",
    "print(numbers[::2])"
   ]
  },
  {
   "cell_type": "code",
   "execution_count": 14,
   "id": "596a85b3",
   "metadata": {},
   "outputs": [
    {
     "name": "stdout",
     "output_type": "stream",
     "text": [
      "(1, 2, 3, 4, 5, 6, 7, 'hello', 'world', 1, 2, 3.14)\n",
      "(1, 2, 3, 4, 5, 6, 7, 1, 2, 3, 4, 5, 6, 7, 1, 2, 3, 4, 5, 6, 7)\n",
      "('hello', 'world', 1, 2, 3.14, 'hello', 'world', 1, 2, 3.14, 'hello', 'world', 1, 2, 3.14, 'hello', 'world', 1, 2, 3.14, 'hello', 'world', 1, 2, 3.14)\n"
     ]
    }
   ],
   "source": [
    "# Tuple Operations\n",
    "\n",
    "# Concatenation\n",
    "mixed_tuple_plus_numbers = numbers + mixed_tuple\n",
    "print(mixed_tuple_plus_numbers)\n",
    "\n",
    "# Multiple concatematiion at once => using multiplication\n",
    "print(numbers*3)\n",
    "print(mixed_tuple*5)"
   ]
  },
  {
   "cell_type": "code",
   "execution_count": 19,
   "id": "ce70257e",
   "metadata": {},
   "outputs": [
    {
     "name": "stdout",
     "output_type": "stream",
     "text": [
      "[1, 2, 3, 4, 5]\n",
      "[1, 100, 3, 4, 5]\n",
      "(1, 2, 3, 4, 5)\n"
     ]
    },
    {
     "ename": "TypeError",
     "evalue": "'tuple' object does not support item assignment",
     "output_type": "error",
     "traceback": [
      "\u001b[31m---------------------------------------------------------------------------\u001b[39m",
      "\u001b[31mTypeError\u001b[39m                                 Traceback (most recent call last)",
      "\u001b[36mCell\u001b[39m\u001b[36m \u001b[39m\u001b[32mIn[19]\u001b[39m\u001b[32m, line 13\u001b[39m\n\u001b[32m     10\u001b[39m tpl1 = (\u001b[32m1\u001b[39m,\u001b[32m2\u001b[39m,\u001b[32m3\u001b[39m,\u001b[32m4\u001b[39m,\u001b[32m5\u001b[39m)\n\u001b[32m     11\u001b[39m \u001b[38;5;28mprint\u001b[39m(tpl1)\n\u001b[32m---> \u001b[39m\u001b[32m13\u001b[39m tpl1[\u001b[32m1\u001b[39m] = \u001b[32m100\u001b[39m\n\u001b[32m     14\u001b[39m \u001b[38;5;28mprint\u001b[39m(tpl1)\n",
      "\u001b[31mTypeError\u001b[39m: 'tuple' object does not support item assignment"
     ]
    }
   ],
   "source": [
    "# lists are mutable => items can be changed after initial assigning\n",
    "\n",
    "lst1 = [1,2,3,4,5]\n",
    "print(lst1)\n",
    "\n",
    "lst1[1] = 100\n",
    "print(lst1)\n",
    "\n",
    "# Tuples are immutable => items cant be changed after initial assigning\n",
    "tpl1 = (1,2,3,4,5)\n",
    "print(tpl1)\n",
    "\n",
    "tpl1[1] = 100\n",
    "print(tpl1)\n"
   ]
  },
  {
   "cell_type": "code",
   "execution_count": 22,
   "id": "f3e046fd",
   "metadata": {},
   "outputs": [
    {
     "name": "stdout",
     "output_type": "stream",
     "text": [
      "3\n",
      "4\n"
     ]
    }
   ],
   "source": [
    "# Tuple Methods\n",
    "\n",
    "tuple_new = (1,2,3,4,5,4,3,5,5,6,7,8,9)\n",
    "# count(item) function => returns number of times item is present in the tuple\n",
    "print(tuple_new.count(5))\n",
    "# index(item) function => return index of the first item present in the tuple\n",
    "print(tuple_new.index(5))"
   ]
  },
  {
   "cell_type": "code",
   "execution_count": 25,
   "id": "8deaae2f",
   "metadata": {},
   "outputs": [
    {
     "name": "stdout",
     "output_type": "stream",
     "text": [
      "Packing\n",
      "(1, 2.14, 'hello', 'world', 5)\n",
      "Unpacking\n",
      "1\n",
      "2.14\n",
      "hello\n",
      "world\n",
      "5\n",
      "Unpacking using *\n",
      "1\n",
      "2\n",
      "[3, 4, 5]\n",
      "6\n"
     ]
    }
   ],
   "source": [
    "# Packing and Unpacking a Tuple\n",
    "\n",
    "# Packing\n",
    "\n",
    "print(\"Packing\")\n",
    "packed_tuple = 1,2.14,\"hello\",\"world\",5\n",
    "print(packed_tuple)\n",
    "\n",
    "# Unpacking\n",
    "print(\"Unpacking\")\n",
    "a,b,c,d,e = packed_tuple\n",
    "print(a)\n",
    "print(b)\n",
    "print(c)\n",
    "print(d)\n",
    "print(e)\n",
    "\n",
    "print(\"Unpacking using *\")\n",
    "numbers_tuple = (1,2,3,4,5,6)\n",
    "first,second,*middle,last = numbers_tuple\n",
    "print(first)\n",
    "print(second)\n",
    "print(middle)\n",
    "print(last)"
   ]
  },
  {
   "cell_type": "code",
   "execution_count": 35,
   "id": "60d5289a",
   "metadata": {},
   "outputs": [
    {
     "name": "stdout",
     "output_type": "stream",
     "text": [
      "Nested List:\n",
      "[1, 2, 3, 4]\n",
      "[7, 8, 9]\n",
      "Nested Tuple:\n",
      "(1, 2, 3, 4)\n",
      "(7, 8, 9)\n",
      "Iterating over nested tuples\n",
      "1 2 3 4 \n",
      "6 7 8 9 \n",
      "hello hi hehe 123.23 12 \n"
     ]
    }
   ],
   "source": [
    "# Nested List\n",
    "print(\"Nested List:\")\n",
    "lst_nested = [[1,2,3,4],[6,7,8,9],[\"hello\",\"hi\",\"hehe\",123.23,12]]\n",
    "print(lst_nested[0])\n",
    "print(lst_nested[1][1:4])\n",
    "\n",
    "# Nested Tuple\n",
    "print(\"Nested Tuple:\")\n",
    "nested_tuple = ((1,2,3,4),(6,7,8,9),(\"hello\",\"hi\",\"hehe\",123.23,12))\n",
    "print(nested_tuple[0])\n",
    "print(nested_tuple[1][1:4])\n",
    "\n",
    "# Iterating over nested tuples\n",
    "print(\"Iterating over nested tuples\")\n",
    "for sub_tuple in nested_tuple:\n",
    "    for item in sub_tuple:\n",
    "        print(item, end = \" \")\n",
    "    print()"
   ]
  }
 ],
 "metadata": {
  "kernelspec": {
   "display_name": "Python 3",
   "language": "python",
   "name": "python3"
  },
  "language_info": {
   "codemirror_mode": {
    "name": "ipython",
    "version": 3
   },
   "file_extension": ".py",
   "mimetype": "text/x-python",
   "name": "python",
   "nbconvert_exporter": "python",
   "pygments_lexer": "ipython3",
   "version": "3.12.11"
  }
 },
 "nbformat": 4,
 "nbformat_minor": 5
}
