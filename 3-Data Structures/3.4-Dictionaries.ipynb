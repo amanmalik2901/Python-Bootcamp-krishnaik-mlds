{
 "cells": [
  {
   "cell_type": "markdown",
   "id": "c0759fd3",
   "metadata": {},
   "source": [
    "## Dictionaries\n",
    "        => Unordered collection of items\n",
    "        => They Store the data in ke-value pairs\n",
    "        => Keys must be unique and immutable\n",
    "        => Values can be of any type"
   ]
  },
  {
   "cell_type": "code",
   "execution_count": 3,
   "id": "62683701",
   "metadata": {},
   "outputs": [
    {
     "name": "stdout",
     "output_type": "stream",
     "text": [
      "<class 'dict'>\n",
      "{}\n"
     ]
    }
   ],
   "source": [
    "# Creating Dictionaries\n",
    "\n",
    "# first way\n",
    "empty_dict = {}\n",
    "print(type(empty_dict))\n",
    "\n",
    "# second way\n",
    "emp_dict = dict()\n",
    "print(emp_dict)"
   ]
  },
  {
   "cell_type": "code",
   "execution_count": null,
   "id": "d38f9455",
   "metadata": {},
   "outputs": [
    {
     "name": "stdout",
     "output_type": "stream",
     "text": [
      "{'name': 'Krish', 'age': 32, 'grade': 24}\n",
      "<class 'dict'>\n"
     ]
    }
   ],
   "source": [
    "student = {\"name\":\"Krish\",\"age\":32,\"grade\":24}\n",
    "print(student)\n",
    "print(type(student))"
   ]
  },
  {
   "cell_type": "code",
   "execution_count": 10,
   "id": "081c413d",
   "metadata": {},
   "outputs": [
    {
     "name": "stdout",
     "output_type": "stream",
     "text": [
      "{'name': 24, 'age': 32}\n"
     ]
    }
   ],
   "source": [
    "# if we assign two values to same key => previous value gets replaced by new one\n",
    "# SInge key is always used\n",
    "student = {\"name\":\"krish\",\"age\":32,\"name\":24}\n",
    "print(student)"
   ]
  },
  {
   "cell_type": "code",
   "execution_count": 15,
   "id": "3b151415",
   "metadata": {},
   "outputs": [
    {
     "name": "stdout",
     "output_type": "stream",
     "text": [
      "{'name': 'Krish', 'age': 32, 'grade': 'A'}\n",
      "\n",
      "Accessing Dictionary Elements:\n",
      "\n",
      "Using 1st way:\n",
      "Krish\n",
      "32\n",
      "A\n",
      "\n",
      "Using 2nd way - get() method\n",
      "Krish\n",
      "32\n",
      "A\n",
      "None\n",
      "Not Available\n"
     ]
    }
   ],
   "source": [
    "student = {\"name\":\"Krish\",\"age\":32,\"grade\":'A'}\n",
    "print(student)\n",
    "print()\n",
    "\n",
    "# Accessing Dictionary Elements\n",
    "\n",
    "# 1st way\n",
    "print(\"Accessing Dictionary Elements:\")\n",
    "print()\n",
    "print(\"Using 1st way:\")\n",
    "print(student[\"name\"])\n",
    "print(student[\"age\"])\n",
    "print(student[\"grade\"])\n",
    "print()\n",
    "\n",
    "# 2nd way - using get() method provided by dictionaries\n",
    "print(\"Using 2nd way - get() method\")\n",
    "print(student.get(\"name\"))\n",
    "print(student.get(\"age\"))\n",
    "print(student.get(\"grade\"))\n",
    "print(student.get(\"last_name\"))\n",
    "print(student.get(\"last_name\",\"Not Available\"))         # Given a default value"
   ]
  },
  {
   "cell_type": "code",
   "execution_count": 19,
   "id": "10bfd0c5",
   "metadata": {},
   "outputs": [
    {
     "name": "stdout",
     "output_type": "stream",
     "text": [
      "{'name': 'Krish', 'age': 33, 'grade': 'A', 'address': 'India'}\n",
      "{'name': 'Krish', 'age': 33, 'grade': 'A', 'address': 'India'}\n",
      "{'name': 'Krish', 'age': 33, 'address': 'India'}\n"
     ]
    }
   ],
   "source": [
    "# Modifying Dictionary Elements\n",
    "## => Dictionaries are mutable, so you can add, update or deete elements\n",
    "print(student)\n",
    "\n",
    "# changing existing value for key - UPDATING\n",
    "student[\"age\"] = 33\n",
    "\n",
    "# adding new key vaue pair to dictionarry -ADDING\n",
    "student[\"address\"] = \"India\"\n",
    "\n",
    "print(student)\n",
    "\n",
    "# deleting a key-velue pair\n",
    "del student[\"grade\"]\n",
    "print(student)"
   ]
  },
  {
   "cell_type": "code",
   "execution_count": null,
   "id": "0d555623",
   "metadata": {},
   "outputs": [
    {
     "name": "stdout",
     "output_type": "stream",
     "text": [
      "dict_keys(['name', 'age', 'address'])\n",
      "dict_values(['Krish', 33, 'India'])\n",
      "{'name': 'Krish', 'age': 33, 'address': 'India'}\n",
      "dict_items([('name', 'Krish'), ('age', 33), ('address', 'India')])\n"
     ]
    }
   ],
   "source": [
    "# Dictionary Methods\n",
    "\n",
    "# getting all the keys\n",
    "keys = student.keys()\n",
    "print(keys)\n",
    "\n",
    "# getting all the values\n",
    "values = student.values()\n",
    "print(values)\n",
    "\n",
    "# printing student\n",
    "print(student)\n",
    "\n",
    "# getting all key value pairs => basically a list of tuples\n",
    "items = student.items()\n",
    "print(items)"
   ]
  },
  {
   "cell_type": "code",
   "execution_count": 26,
   "id": "3db8630e",
   "metadata": {},
   "outputs": [
    {
     "name": "stdout",
     "output_type": "stream",
     "text": [
      "Normal Copy:\n",
      "\n",
      "{'name': 'Krish1', 'age': 33, 'address': 'India'}\n",
      "{'name': 'Krish1', 'age': 33, 'address': 'India'}\n",
      "After editing student:\n",
      "{'name': 'Krish2', 'age': 33, 'address': 'India'}\n",
      "{'name': 'Krish2', 'age': 33, 'address': 'India'}\n",
      "\n",
      "Shallow Copy:\n",
      "Before Editing student:\n",
      "{'name': 'Krish2', 'age': 33, 'address': 'India'}\n",
      "{'name': 'Krish2', 'age': 33, 'address': 'India'}\n",
      "After Editing student:\n",
      "{'name': 'Krish3', 'age': 33, 'address': 'India'}\n",
      "{'name': 'Krish2', 'age': 33, 'address': 'India'}\n"
     ]
    }
   ],
   "source": [
    "## Copying the variable => memory location remains same\n",
    "student[\"name\"] = \"Krish1\"\n",
    "\n",
    "student_copy = student\n",
    "\n",
    "print(\"Normal Copy:\")\n",
    "print()\n",
    "\n",
    "print(student)\n",
    "print(student_copy)\n",
    "\n",
    "print(\"After editing student:\")         # the student_copy also gets changed\n",
    "student[\"name\"] = \"Krish2\"\n",
    "print(student)\n",
    "print(student_copy)\n",
    "print()\n",
    "\n",
    "# Shallow Copy => Memory location of the copy is different form original\n",
    "print(\"Shallow Copy:\")\n",
    "student_shallow_copy = student.copy()\n",
    "print(\"Before Editing student:\")\n",
    "print(student)\n",
    "print(student_shallow_copy)\n",
    "\n",
    "student[\"name\"] = \"Krish3\"\n",
    "\n",
    "print(\"After Editing student:\")\n",
    "print(student)\n",
    "print(student_shallow_copy)"
   ]
  },
  {
   "cell_type": "code",
   "execution_count": 33,
   "id": "7632d02d",
   "metadata": {},
   "outputs": [
    {
     "name": "stdout",
     "output_type": "stream",
     "text": [
      "Iterating over keys:\n",
      "name\n",
      "age\n",
      "address\n",
      "\n",
      "Iterating over values\n",
      "Krish3\n",
      "33\n",
      "India\n",
      "\n",
      "Iterating over key-value pairs\n",
      "name:Krish3\n",
      "age:33\n",
      "address:India\n"
     ]
    }
   ],
   "source": [
    "# Iterating over dictionaries\n",
    "\n",
    "# Using Loops\n",
    "\n",
    "## Iterating ove keys\n",
    "print(\"Iterating over keys:\")\n",
    "for key in student.keys():\n",
    "    print(key)\n",
    "print()\n",
    "\n",
    "## Iterating over values\n",
    "print(\"Iterating over values\")\n",
    "for value in student.values():\n",
    "    print(value)\n",
    "print()\n",
    "\n",
    "## Iterating over key-value pairs\n",
    "print(\"Iterating over key-value pairs\")\n",
    "for key,value in student.items():\n",
    "    print(f\"{key}:{value}\")"
   ]
  },
  {
   "cell_type": "code",
   "execution_count": 39,
   "id": "e7598d1f",
   "metadata": {},
   "outputs": [
    {
     "name": "stdout",
     "output_type": "stream",
     "text": [
      "{'student1': {'name': 'spooder_man', 'age': 35}, 'student2': {'name': 'ben 10', 'age': 20}}\n"
     ]
    }
   ],
   "source": [
    "# Nested Dictionaries\n",
    "students = {\n",
    "    \"student1\":{\"name\":\"spooder_man\", \"age\":35},        # spooder man's OP\n",
    "    \"student2\":{\"name\":\"ben 10\",\"age\":20}\n",
    "}\n",
    "print(students)\n"
   ]
  },
  {
   "cell_type": "code",
   "execution_count": 37,
   "id": "2ca7d0e8",
   "metadata": {},
   "outputs": [
    {
     "name": "stdout",
     "output_type": "stream",
     "text": [
      "spooder man\n",
      "20\n"
     ]
    }
   ],
   "source": [
    "# Accessing nested dictionaries elements\n",
    "print(students[\"student1\"][\"name\"])\n",
    "print(students[\"student2\"][\"age\"])\n"
   ]
  },
  {
   "cell_type": "code",
   "execution_count": 43,
   "id": "cd04de47",
   "metadata": {},
   "outputs": [
    {
     "name": "stdout",
     "output_type": "stream",
     "text": [
      "student1:{'name': 'spooder_man', 'age': 35}\n",
      "name:spooder_man\n",
      "age:35\n",
      "student2:{'name': 'ben 10', 'age': 20}\n",
      "name:ben 10\n",
      "age:20\n"
     ]
    }
   ],
   "source": [
    "# Iterating over nested dictionaries\n",
    "for student_id,student_info in students.items():\n",
    "    print(f\"{student_id}:{student_info}\")\n",
    "    for key,value in student_info.items():\n",
    "        print(f\"{key}:{value}\")"
   ]
  },
  {
   "cell_type": "code",
   "execution_count": 44,
   "id": "884c8a08",
   "metadata": {},
   "outputs": [
    {
     "name": "stdout",
     "output_type": "stream",
     "text": [
      "{0: 0, 1: 1, 2: 4, 3: 9, 4: 16}\n"
     ]
    }
   ],
   "source": [
    "# Dictionary Comprehension\n",
    "squares = {i:i**2 for i in range(5)}\n",
    "print(squares)\n"
   ]
  },
  {
   "cell_type": "code",
   "execution_count": 46,
   "id": "c018c95e",
   "metadata": {},
   "outputs": [
    {
     "name": "stdout",
     "output_type": "stream",
     "text": [
      "{0: 0, 2: 4, 4: 16, 6: 36, 8: 64}\n"
     ]
    }
   ],
   "source": [
    "# Conditional Dictionary Comprehension\n",
    "even_squares = {i:i**2 for i in range(10) if i%2==0}\n",
    "print(even_squares)"
   ]
  },
  {
   "cell_type": "code",
   "execution_count": 48,
   "id": "843558f0",
   "metadata": {},
   "outputs": [
    {
     "name": "stdout",
     "output_type": "stream",
     "text": [
      "{1: 1, 2: 2, 3: 3, 4: 4}\n"
     ]
    }
   ],
   "source": [
    "## Practical Examples\n",
    "\n",
    "# Use a dictionary to count the frequency of elements in a list\n",
    "numbers = [1,2,2,3,3,3,4,4,4,4]\n",
    "frequency = {}\n",
    "for number in numbers:\n",
    "    if number in frequency:\n",
    "        frequency[number]+=1\n",
    "    else:\n",
    "        frequency[number]=1\n",
    "print(frequency)\n",
    "\n",
    "\n"
   ]
  },
  {
   "cell_type": "code",
   "execution_count": 50,
   "id": "bff87f2c",
   "metadata": {},
   "outputs": [
    {
     "name": "stdout",
     "output_type": "stream",
     "text": [
      "{'a': 1, 'b': 2, 'c': 3, 'd': 4}\n"
     ]
    }
   ],
   "source": [
    "# Merge 2 dictionaries into 1\n",
    "\n",
    "dict1 = {\"a\":1,\"b\":2}\n",
    "dict2 = {\"c\":3,\"d\":4}\n",
    "merged_dict = {**dict1,**dict2}\n",
    "print(merged_dict)"
   ]
  }
 ],
 "metadata": {
  "kernelspec": {
   "display_name": "Python 3",
   "language": "python",
   "name": "python3"
  },
  "language_info": {
   "codemirror_mode": {
    "name": "ipython",
    "version": 3
   },
   "file_extension": ".py",
   "mimetype": "text/x-python",
   "name": "python",
   "nbconvert_exporter": "python",
   "pygments_lexer": "ipython3",
   "version": "3.12.11"
  }
 },
 "nbformat": 4,
 "nbformat_minor": 5
}
