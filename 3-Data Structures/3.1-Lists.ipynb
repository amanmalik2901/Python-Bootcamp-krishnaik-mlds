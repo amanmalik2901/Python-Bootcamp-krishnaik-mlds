{
 "cells": [
  {
   "cell_type": "markdown",
   "id": "fa1ea376",
   "metadata": {},
   "source": [
    "## Lists:\n",
    "        => Ordered, mutable collections of items\n",
    "        => can contain items of different data types"
   ]
  },
  {
   "cell_type": "code",
   "execution_count": 2,
   "id": "ced950e5",
   "metadata": {},
   "outputs": [
    {
     "name": "stdout",
     "output_type": "stream",
     "text": [
      "<class 'list'>\n"
     ]
    }
   ],
   "source": [
    "# Creating List\n",
    "\n",
    "lst=[]\n",
    "print(type(lst))"
   ]
  },
  {
   "cell_type": "code",
   "execution_count": null,
   "id": "717d6be6",
   "metadata": {},
   "outputs": [
    {
     "name": "stdout",
     "output_type": "stream",
     "text": [
      "hello world 123.22\n",
      "123.22 a hello\n",
      "['hello', 'world', 1, 'a', 123.22]\n",
      "[1, 'a', 123.22]\n",
      "['a', 123.22]\n",
      "[123.22]\n",
      "[]\n",
      "[1, 'a']\n",
      "['world', 1]\n",
      "['world', 1, 'a']\n",
      "['world', 1, 'a', 123.22]\n",
      "['world', 1, 'a', 123.22]\n"
     ]
    }
   ],
   "source": [
    "# Accessing List Items\n",
    "lst = [\"hello\", \"world\", 1, 'a', 123.22]\n",
    "\n",
    "# any +ve index\n",
    "print(lst[0],lst[1],lst[4])\n",
    "\n",
    "# any -ve index\n",
    "print(lst[-1],lst[-2],lst[-5])\n",
    "\n",
    "#full list\n",
    "print(lst)\n",
    "\n",
    "# all elements starting from a between element\n",
    "print(lst[2:])\n",
    "print(lst[3:])\n",
    "print(lst[4:])\n",
    "print(lst[5:])\n",
    "\n",
    "# all elements starting from a between element and till another element\n",
    "print(lst[2:4])\n",
    "print(lst[1:3])\n",
    "print(lst[1:4])\n",
    "print(lst[1:5])\n",
    "print(lst[1:6])     #exceding index"
   ]
  },
  {
   "cell_type": "code",
   "execution_count": null,
   "id": "d4051c82",
   "metadata": {},
   "outputs": [
    {
     "name": "stdout",
     "output_type": "stream",
     "text": [
      "[1, 3, 2.5, 1, 5, 6, 7]\n",
      "[1, 'a', 'b', 'c', 5, 6, 7]\n",
      "[1, 'x', 'y', 'z', 5, 6, 7]\n",
      "[1, 2, 3, 4, 5, 6, 7]\n"
     ]
    },
    {
     "data": {
      "text/plain": [
       "[1, 2, 3, 4, 5, 6]"
      ]
     },
     "execution_count": 15,
     "metadata": {},
     "output_type": "execute_result"
    }
   ],
   "source": [
    "# Modifying the list elements\n",
    "\n",
    "lst_old = [1,2,3,4,5,6,7]\n",
    "lst_old[1] = 3\n",
    "lst_old[2] = 2.5\n",
    "lst_old[3] = 1\n",
    "\n",
    "print(lst_old)\n",
    "\n",
    "\n",
    "lst_old[1:4] = ['a','b','c']\n",
    "print(lst_old)\n",
    "\n",
    "lst_old[1:4] = \"xyz\"\n",
    "print(lst_old)\n",
    "\n",
    "\n",
    "lst_old[1:] =[2,3,4,5,6,7] \n",
    "print(lst_old)\n",
    "\n",
    "lst_old[0:6]"
   ]
  },
  {
   "cell_type": "code",
   "execution_count": 32,
   "id": "e96d5ae4",
   "metadata": {},
   "outputs": [
    {
     "name": "stdout",
     "output_type": "stream",
     "text": [
      "['a', 'b', 'c', 'd', 'f']\n",
      "['a', 'b', 'c', 'd', 'e', 'f']\n",
      "['a', 'c', 'd', 'e', 'f']\n",
      "['a', 'c', 'd', 'e'] Popped element: f\n",
      "1\n",
      "['a', 'c', 'd', 'e', 'a', 'a'] NUmber of elements 'a' in the list: 3\n",
      "l2 sorted: [2, 2, 3, 4, 5, 5, 5, 67, 234]\n",
      "['a', 'a', 'e', 'd', 'c', 'a']\n",
      "[]\n"
     ]
    }
   ],
   "source": [
    "#list methods\n",
    "l = ['a', 'b', 'c', 'd']\n",
    "\n",
    "#append\n",
    "l.append('f')\n",
    "print(l)\n",
    "\n",
    "#insert\n",
    "l.insert(4,'e')\n",
    "print(l)\n",
    "\n",
    "#remove (removing the first occurence)\n",
    "l.remove('b')\n",
    "print(l)\n",
    "\n",
    "#pop (returns and removes last element)\n",
    "popped_el = l.pop()\n",
    "print(l,\"Popped element:\", popped_el)\n",
    "\n",
    "#index (returns the index of first occurence)\n",
    "i = l.index('c')\n",
    "print(i)\n",
    "\n",
    "#count (counting the number of elements of a particular value in list)\n",
    "l.append('a')\n",
    "l.append('a')\n",
    "print(l,\"NUmber of elements 'a' in the list:\",l.count('a'))\n",
    "\n",
    "#sort (sort the list in ascending order)\n",
    "l2 = [4,5,2,5,67,234,3,2,5]\n",
    "l2.sort()\n",
    "print(\"l2 sorted:\",l2)\n",
    "\n",
    "#reverse (reverse the entire list)\n",
    "l.reverse()\n",
    "print(l)\n",
    "\n",
    "#clear (remove all the items from the list)\n",
    "l.clear()\n",
    "print(l)"
   ]
  },
  {
   "cell_type": "code",
   "execution_count": 34,
   "id": "9de58c09",
   "metadata": {},
   "outputs": [
    {
     "name": "stdout",
     "output_type": "stream",
     "text": [
      "[1, 2, 3, 4, 5, 6, 7, 8, 9, 10]\n",
      "[1, 2, 3, 4, 5, 6, 7, 8, 9, 10]\n",
      "[2, 3, 4, 5, 6, 7, 8, 9, 10]\n",
      "[1, 2, 3, 4, 5, 6, 7, 8, 9]\n",
      "[1, 2, 3, 4, 5, 6, 7, 8, 9, 10]\n",
      "[1, 2, 3, 4, 5, 6, 7, 8]\n",
      "[2, 3, 4, 5]\n",
      "[1, 2, 3, 4, 5, 6, 7, 8, 9]\n",
      "[1, 2, 3, 4, 5, 6, 7, 8, 9, 10]\n",
      "[1, 3, 5, 7, 9]\n",
      "[10, 8, 6, 4, 2]\n"
     ]
    }
   ],
   "source": [
    "# Slicing Lists\n",
    "l1 = [1,2,3,4,5,6,7,8,9,10]\n",
    "\n",
    "print(l1[:])\n",
    "print(l1[0:])\n",
    "print(l1[1:])\n",
    "print(l1[:9])\n",
    "print(l1[:10])\n",
    "print(l1[:8])\n",
    "print(l1[1:5])\n",
    "print(l1[0:9])\n",
    "print(l1[0:10])\n",
    "print(l1[::2])\n",
    "print(l1[::-2])\n"
   ]
  },
  {
   "cell_type": "code",
   "execution_count": 35,
   "id": "fb3fc5f9",
   "metadata": {},
   "outputs": [
    {
     "name": "stdout",
     "output_type": "stream",
     "text": [
      "1\n",
      "2\n",
      "3\n",
      "4\n",
      "5\n",
      "6\n",
      "7\n",
      "8\n",
      "9\n"
     ]
    }
   ],
   "source": [
    "#iterating over list\n",
    "numbers = [1,2,3,4,5,6,7,8,9]\n",
    "for num in numbers:\n",
    "    print(num)"
   ]
  },
  {
   "cell_type": "code",
   "execution_count": 36,
   "id": "c80b78ab",
   "metadata": {},
   "outputs": [
    {
     "name": "stdout",
     "output_type": "stream",
     "text": [
      "At index 0 number present is 1\n",
      "At index 1 number present is 2\n",
      "At index 2 number present is 3\n",
      "At index 3 number present is 4\n",
      "At index 4 number present is 5\n",
      "At index 5 number present is 6\n",
      "At index 6 number present is 7\n",
      "At index 7 number present is 8\n",
      "At index 8 number present is 9\n"
     ]
    }
   ],
   "source": [
    "#iterating with index and enumerating\n",
    "\n",
    "numberz = [1,2,3,4,5,6,7,8,9]\n",
    "for index,item in enumerate(numberz):\n",
    "    print(\"At index\",index,\"number present is\",item)"
   ]
  },
  {
   "cell_type": "code",
   "execution_count": 49,
   "id": "4bb985be",
   "metadata": {},
   "outputs": [
    {
     "name": "stdout",
     "output_type": "stream",
     "text": [
      "[0, 1, 4, 9, 16, 25, 36, 49, 64, 81]\n",
      "[0, 1, 4, 9, 16, 25, 36, 49, 64, 81, 100]\n",
      "[1, 3, 5, 7, 9]\n",
      "[1, 3, 5, 7, 9, 11, 13, 15]\n",
      "[(1, 'a'), (1, 'b'), (1, 'c'), (1, 'd'), (2, 'a'), (2, 'b'), (2, 'c'), (2, 'd'), (3, 'a'), (3, 'b'), (3, 'c'), (3, 'd'), (4, 'a'), (4, 'b'), (4, 'c'), (4, 'd')]\n",
      "[[1, 'a'], [1, 'b'], [1, 'c'], [1, 'd'], [2, 'a'], [2, 'b'], [2, 'c'], [2, 'd'], [3, 'a'], [3, 'b'], [3, 'c'], [3, 'd'], [4, 'a'], [4, 'b'], [4, 'c'], [4, 'd']]\n",
      "[5, 5, 2, 3, 3, 3, 3]\n"
     ]
    }
   ],
   "source": [
    "# list comprehension => square list example\n",
    "\n",
    "# basic\n",
    "#finding list of squares from 1 to 10 - normal loop\n",
    "sqrs = []\n",
    "for i in range(10):\n",
    "    sqrs.append(i**2)\n",
    "print(sqrs)\n",
    "\n",
    "#finding list of squares from 1 to 10 - LIST COMPREHENSION\n",
    "sqrs2 = [i**2 for i in range(11)]\n",
    "print(sqrs2)\n",
    "\n",
    "# with if condition / conditional logic\n",
    "# list with odd numbers - normal loop\n",
    "odd = []\n",
    "for i in range(10):\n",
    "    if(i%2 == 1):\n",
    "        odd.append(i)\n",
    "print(odd)\n",
    "\n",
    "# list with odd numbers - list comprehension\n",
    "odd2 = [i for i in range(16) if i%2==1]\n",
    "print(odd2)\n",
    "\n",
    "\n",
    "\n",
    "\n",
    "# nested list comprehension - 2 lists pair example\n",
    "list1 = [1,2,3,4]\n",
    "list2 = ['a','b','c','d']\n",
    "\n",
    "list3 = [(i,j) for i in list1 for j in list2]\n",
    "print(list3)\n",
    "\n",
    "list4 = [[i,j] for i in list1 for j in list2]\n",
    "print(list4)\n",
    "\n",
    "# list comprehension with function calls - length example\n",
    "words = [\"hello\",\"world\",\"hi\",\"how\",\"how\",\"are\",\"you\"]\n",
    "length_of_words = [len(word) for word in words]\n",
    "print(length_of_words)\n"
   ]
  }
 ],
 "metadata": {
  "kernelspec": {
   "display_name": "Python 3",
   "language": "python",
   "name": "python3"
  },
  "language_info": {
   "codemirror_mode": {
    "name": "ipython",
    "version": 3
   },
   "file_extension": ".py",
   "mimetype": "text/x-python",
   "name": "python",
   "nbconvert_exporter": "python",
   "pygments_lexer": "ipython3",
   "version": "3.12.11"
  }
 },
 "nbformat": 4,
 "nbformat_minor": 5
}
